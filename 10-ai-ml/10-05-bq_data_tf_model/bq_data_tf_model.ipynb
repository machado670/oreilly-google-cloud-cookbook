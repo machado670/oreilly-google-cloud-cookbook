{
 "cells": [
  {
   "cell_type": "markdown",
   "source": [
    "# Using tf.data and in-memory BigQuery DataFrames\n",
    "\n",
    "This notebook will show you how to extract a in-memory sized training set from BigQuery to a Pandas DataFrame, then feed it into a TensorFlow model with the tf.data APi."
   ],
   "metadata": {}
  },
  {
   "cell_type": "markdown",
   "source": [
    "Copyright 2021 Google LLC\n",
    "\n",
    "Licensed under the Apache License, Version 2.0 (the \"License\");\n",
    "you may not use this file except in compliance with the License.\n",
    "You may obtain a copy of the License at\n",
    "\n",
    "    http://www.apache.org/licenses/LICENSE-2.0\n",
    "\n",
    "Unless required by applicable law or agreed to in writing, software\n",
    "distributed under the License is distributed on an \"AS IS\" BASIS,\n",
    "WITHOUT WARRANTIES OR CONDITIONS OF ANY KIND, either express or implied.\n",
    "See the License for the specific language governing permissions and\n",
    "limitations under the License."
   ],
   "metadata": {}
  },
  {
   "cell_type": "code",
   "execution_count": 1,
   "source": [
    "# examine the dataset from the CLI\n",
    "!bq head -n 5 bigquery-public-data:london_bicycles.cycle_hire"
   ],
   "outputs": [
    {
     "output_type": "stream",
     "name": "stdout",
     "text": [
      "+-----------+----------+---------+---------------------+----------------+-------------------------------+---------------------+------------------+---------------------------------------------+------------------------------+--------------------------------+-------------------------+\n",
      "| rental_id | duration | bike_id |      end_date       | end_station_id |       end_station_name        |     start_date      | start_station_id |             start_station_name              | end_station_logical_terminal | start_station_logical_terminal | end_station_priority_id |\n",
      "+-----------+----------+---------+---------------------+----------------+-------------------------------+---------------------+------------------+---------------------------------------------+------------------------------+--------------------------------+-------------------------+\n",
      "|  47469109 |     3180 |    7054 | 2015-09-03 12:45:00 |            111 | Park Lane , Hyde Park         | 2015-09-03 11:52:00 |              300 | Serpentine Car Park, Hyde Park              |                         NULL |                           NULL |                    NULL |\n",
      "|  46915469 |     7380 |    3792 | 2015-08-16 11:59:00 |            407 | Speakers' Corner 1, Hyde Park | 2015-08-16 09:56:00 |              407 | Speakers' Corner 1, Hyde Park               |                         NULL |                           NULL |                    NULL |\n",
      "|  65899423 |     2040 |    3038 | 2017-06-09 18:30:00 |            165 | Orsett Terrace, Bayswater     | 2017-06-09 17:56:00 |              579 | Queen Street 2, Bank                        |                         NULL |                           NULL |                    NULL |\n",
      "|  64280726 |     2280 |   10868 | 2017-04-22 10:14:00 |            553 | Regent's Row , Haggerston     | 2017-04-22 09:36:00 |              519 | Teviot Street, Poplar                       |                         NULL |                           NULL |                    NULL |\n",
      "|  59235489 |     2340 |    7183 | 2016-10-09 04:31:00 |            100 | Albert Embankment, Vauxhall   | 2016-10-09 03:52:00 |              612 | Wandsworth Rd, Isley Court, Wandsworth Road |                         NULL |                           NULL |                    NULL |\n",
      "+-----------+----------+---------+---------------------+----------------+-------------------------------+---------------------+------------------+---------------------------------------------+------------------------------+--------------------------------+-------------------------+\n"
     ]
    }
   ],
   "metadata": {}
  },
  {
   "cell_type": "code",
   "execution_count": 2,
   "source": [
    "# !pip install google-cloud-bigquery-storage"
   ],
   "outputs": [],
   "metadata": {}
  },
  {
   "cell_type": "code",
   "execution_count": 3,
   "source": [
    "from google.cloud import bigquery"
   ],
   "outputs": [],
   "metadata": {}
  },
  {
   "cell_type": "code",
   "execution_count": 4,
   "source": [
    "%%bigquery df_from_magic --use_bqstorage_api\n",
    "SELECT * FROM \n",
    "bigquery-public-data.london_bicycles.cycle_hire\n",
    "WHERE EXTRACT(YEAR from start_date) = 2017\n",
    "AND EXTRACT(MONTH from start_date) = 1\n"
   ],
   "outputs": [],
   "metadata": {}
  },
  {
   "cell_type": "code",
   "execution_count": 5,
   "source": [
    "df_from_magic.head()"
   ],
   "outputs": [
    {
     "output_type": "execute_result",
     "data": {
      "text/html": [
       "<div>\n",
       "<style scoped>\n",
       "    .dataframe tbody tr th:only-of-type {\n",
       "        vertical-align: middle;\n",
       "    }\n",
       "\n",
       "    .dataframe tbody tr th {\n",
       "        vertical-align: top;\n",
       "    }\n",
       "\n",
       "    .dataframe thead th {\n",
       "        text-align: right;\n",
       "    }\n",
       "</style>\n",
       "<table border=\"1\" class=\"dataframe\">\n",
       "  <thead>\n",
       "    <tr style=\"text-align: right;\">\n",
       "      <th></th>\n",
       "      <th>rental_id</th>\n",
       "      <th>duration</th>\n",
       "      <th>bike_id</th>\n",
       "      <th>end_date</th>\n",
       "      <th>end_station_id</th>\n",
       "      <th>end_station_name</th>\n",
       "      <th>start_date</th>\n",
       "      <th>start_station_id</th>\n",
       "      <th>start_station_name</th>\n",
       "      <th>end_station_logical_terminal</th>\n",
       "      <th>start_station_logical_terminal</th>\n",
       "      <th>end_station_priority_id</th>\n",
       "    </tr>\n",
       "  </thead>\n",
       "  <tbody>\n",
       "    <tr>\n",
       "      <th>0</th>\n",
       "      <td>61665038</td>\n",
       "      <td>1920</td>\n",
       "      <td>4698</td>\n",
       "      <td>2017-01-13 17:21:00+00:00</td>\n",
       "      <td>766</td>\n",
       "      <td>Ram Street, Wandsworth</td>\n",
       "      <td>2017-01-13 16:49:00+00:00</td>\n",
       "      <td>815</td>\n",
       "      <td>Lambeth Palace Road, Waterloo</td>\n",
       "      <td>NaN</td>\n",
       "      <td>NaN</td>\n",
       "      <td>NaN</td>\n",
       "    </tr>\n",
       "    <tr>\n",
       "      <th>1</th>\n",
       "      <td>61412525</td>\n",
       "      <td>1920</td>\n",
       "      <td>9696</td>\n",
       "      <td>2017-01-02 17:22:00+00:00</td>\n",
       "      <td>485</td>\n",
       "      <td>Old Ford Road, Bethnal Green</td>\n",
       "      <td>2017-01-02 16:50:00+00:00</td>\n",
       "      <td>480</td>\n",
       "      <td>Flamborough Street, Limehouse</td>\n",
       "      <td>NaN</td>\n",
       "      <td>NaN</td>\n",
       "      <td>NaN</td>\n",
       "    </tr>\n",
       "    <tr>\n",
       "      <th>2</th>\n",
       "      <td>61656964</td>\n",
       "      <td>1920</td>\n",
       "      <td>9031</td>\n",
       "      <td>2017-01-13 09:26:00+00:00</td>\n",
       "      <td>795</td>\n",
       "      <td>Melton Street, Euston</td>\n",
       "      <td>2017-01-13 08:54:00+00:00</td>\n",
       "      <td>698</td>\n",
       "      <td>Shoreditch Court, Haggerston</td>\n",
       "      <td>NaN</td>\n",
       "      <td>NaN</td>\n",
       "      <td>NaN</td>\n",
       "    </tr>\n",
       "    <tr>\n",
       "      <th>3</th>\n",
       "      <td>61556031</td>\n",
       "      <td>1920</td>\n",
       "      <td>2613</td>\n",
       "      <td>2017-01-09 15:13:00+00:00</td>\n",
       "      <td>113</td>\n",
       "      <td>Gloucester Road (Central), South Kensington</td>\n",
       "      <td>2017-01-09 14:41:00+00:00</td>\n",
       "      <td>15</td>\n",
       "      <td>Great Russell Street, Bloomsbury</td>\n",
       "      <td>NaN</td>\n",
       "      <td>NaN</td>\n",
       "      <td>NaN</td>\n",
       "    </tr>\n",
       "    <tr>\n",
       "      <th>4</th>\n",
       "      <td>61689012</td>\n",
       "      <td>1920</td>\n",
       "      <td>9814</td>\n",
       "      <td>2017-01-15 10:54:00+00:00</td>\n",
       "      <td>596</td>\n",
       "      <td>Parson's Green , Parson's Green</td>\n",
       "      <td>2017-01-15 10:22:00+00:00</td>\n",
       "      <td>596</td>\n",
       "      <td>Parson's Green , Parson's Green</td>\n",
       "      <td>NaN</td>\n",
       "      <td>NaN</td>\n",
       "      <td>NaN</td>\n",
       "    </tr>\n",
       "  </tbody>\n",
       "</table>\n",
       "</div>"
      ],
      "text/plain": [
       "   rental_id  duration  bike_id                  end_date  end_station_id  \\\n",
       "0   61665038      1920     4698 2017-01-13 17:21:00+00:00             766   \n",
       "1   61412525      1920     9696 2017-01-02 17:22:00+00:00             485   \n",
       "2   61656964      1920     9031 2017-01-13 09:26:00+00:00             795   \n",
       "3   61556031      1920     2613 2017-01-09 15:13:00+00:00             113   \n",
       "4   61689012      1920     9814 2017-01-15 10:54:00+00:00             596   \n",
       "\n",
       "                              end_station_name                start_date  \\\n",
       "0                       Ram Street, Wandsworth 2017-01-13 16:49:00+00:00   \n",
       "1                 Old Ford Road, Bethnal Green 2017-01-02 16:50:00+00:00   \n",
       "2                        Melton Street, Euston 2017-01-13 08:54:00+00:00   \n",
       "3  Gloucester Road (Central), South Kensington 2017-01-09 14:41:00+00:00   \n",
       "4              Parson's Green , Parson's Green 2017-01-15 10:22:00+00:00   \n",
       "\n",
       "   start_station_id                start_station_name  \\\n",
       "0               815     Lambeth Palace Road, Waterloo   \n",
       "1               480     Flamborough Street, Limehouse   \n",
       "2               698      Shoreditch Court, Haggerston   \n",
       "3                15  Great Russell Street, Bloomsbury   \n",
       "4               596   Parson's Green , Parson's Green   \n",
       "\n",
       "   end_station_logical_terminal  start_station_logical_terminal  \\\n",
       "0                           NaN                             NaN   \n",
       "1                           NaN                             NaN   \n",
       "2                           NaN                             NaN   \n",
       "3                           NaN                             NaN   \n",
       "4                           NaN                             NaN   \n",
       "\n",
       "   end_station_priority_id  \n",
       "0                      NaN  \n",
       "1                      NaN  \n",
       "2                      NaN  \n",
       "3                      NaN  \n",
       "4                      NaN  "
      ]
     },
     "metadata": {},
     "execution_count": 5
    }
   ],
   "metadata": {}
  },
  {
   "cell_type": "code",
   "execution_count": 6,
   "source": [
    "client = bigquery.Client()"
   ],
   "outputs": [],
   "metadata": {}
  },
  {
   "cell_type": "code",
   "execution_count": 7,
   "source": [
    "query_string = \"\"\"\n",
    "SELECT duration, start_station_id,\n",
    "  EXTRACT(DAYOFWEEK from start_date) as day_of_week,\n",
    "  EXTRACT(HOUR from start_date) as hour\n",
    "\n",
    "FROM \n",
    "bigquery-public-data.london_bicycles.cycle_hire\n",
    "WHERE EXTRACT(YEAR from start_date) = 2017\n",
    "AND EXTRACT(MONTH from start_date) = 1\n",
    "\"\"\""
   ],
   "outputs": [],
   "metadata": {}
  },
  {
   "cell_type": "code",
   "execution_count": 8,
   "source": [
    "df = client.query(query_string).to_dataframe()"
   ],
   "outputs": [],
   "metadata": {}
  },
  {
   "cell_type": "code",
   "execution_count": 9,
   "source": [
    "df.head()"
   ],
   "outputs": [
    {
     "output_type": "execute_result",
     "data": {
      "text/html": [
       "<div>\n",
       "<style scoped>\n",
       "    .dataframe tbody tr th:only-of-type {\n",
       "        vertical-align: middle;\n",
       "    }\n",
       "\n",
       "    .dataframe tbody tr th {\n",
       "        vertical-align: top;\n",
       "    }\n",
       "\n",
       "    .dataframe thead th {\n",
       "        text-align: right;\n",
       "    }\n",
       "</style>\n",
       "<table border=\"1\" class=\"dataframe\">\n",
       "  <thead>\n",
       "    <tr style=\"text-align: right;\">\n",
       "      <th></th>\n",
       "      <th>duration</th>\n",
       "      <th>start_station_id</th>\n",
       "      <th>day_of_week</th>\n",
       "      <th>hour</th>\n",
       "    </tr>\n",
       "  </thead>\n",
       "  <tbody>\n",
       "    <tr>\n",
       "      <th>0</th>\n",
       "      <td>36720</td>\n",
       "      <td>401</td>\n",
       "      <td>7</td>\n",
       "      <td>5</td>\n",
       "    </tr>\n",
       "    <tr>\n",
       "      <th>1</th>\n",
       "      <td>4920</td>\n",
       "      <td>99</td>\n",
       "      <td>1</td>\n",
       "      <td>3</td>\n",
       "    </tr>\n",
       "    <tr>\n",
       "      <th>2</th>\n",
       "      <td>2160</td>\n",
       "      <td>419</td>\n",
       "      <td>1</td>\n",
       "      <td>5</td>\n",
       "    </tr>\n",
       "    <tr>\n",
       "      <th>3</th>\n",
       "      <td>2100</td>\n",
       "      <td>453</td>\n",
       "      <td>1</td>\n",
       "      <td>4</td>\n",
       "    </tr>\n",
       "    <tr>\n",
       "      <th>4</th>\n",
       "      <td>2040</td>\n",
       "      <td>541</td>\n",
       "      <td>1</td>\n",
       "      <td>3</td>\n",
       "    </tr>\n",
       "  </tbody>\n",
       "</table>\n",
       "</div>"
      ],
      "text/plain": [
       "   duration  start_station_id  day_of_week  hour\n",
       "0     36720               401            7     5\n",
       "1      4920                99            1     3\n",
       "2      2160               419            1     5\n",
       "3      2100               453            1     4\n",
       "4      2040               541            1     3"
      ]
     },
     "metadata": {},
     "execution_count": 9
    }
   ],
   "metadata": {}
  },
  {
   "cell_type": "code",
   "execution_count": 10,
   "source": [
    "#TODO(dhodun): add categorial support, station id is not real continuous feature"
   ],
   "outputs": [],
   "metadata": {}
  },
  {
   "cell_type": "code",
   "execution_count": 11,
   "source": [
    "import pandas as pd\n",
    "import tensorflow as tf"
   ],
   "outputs": [],
   "metadata": {}
  },
  {
   "cell_type": "code",
   "execution_count": 12,
   "source": [
    "df.dtypes"
   ],
   "outputs": [
    {
     "output_type": "execute_result",
     "data": {
      "text/plain": [
       "duration            int64\n",
       "start_station_id    int64\n",
       "day_of_week         int64\n",
       "hour                int64\n",
       "dtype: object"
      ]
     },
     "metadata": {},
     "execution_count": 12
    }
   ],
   "metadata": {}
  },
  {
   "cell_type": "code",
   "execution_count": 13,
   "source": [
    "target = df.pop('duration')"
   ],
   "outputs": [],
   "metadata": {}
  },
  {
   "cell_type": "code",
   "execution_count": 14,
   "source": [
    "dataset = tf.data.Dataset.from_tensor_slices((df.values, target.values))"
   ],
   "outputs": [],
   "metadata": {}
  },
  {
   "cell_type": "code",
   "execution_count": 15,
   "source": [
    "for feat, targ in dataset.take(5):\n",
    "  print ('Features: {}, Target: {}'.format(feat, targ))"
   ],
   "outputs": [
    {
     "output_type": "stream",
     "name": "stdout",
     "text": [
      "Features: [401   7   5], Target: 36720\n",
      "Features: [99  1  3], Target: 4920\n",
      "Features: [419   1   5], Target: 2160\n",
      "Features: [453   1   4], Target: 2100\n",
      "Features: [541   1   3], Target: 2040\n"
     ]
    }
   ],
   "metadata": {}
  },
  {
   "cell_type": "code",
   "execution_count": 16,
   "source": [
    "train_dataset = dataset.shuffle(len(df)).batch(64).prefetch(1)\n",
    "# 1=AUTOTUNE"
   ],
   "outputs": [],
   "metadata": {}
  },
  {
   "cell_type": "code",
   "execution_count": 17,
   "source": [
    "from tensorflow import keras"
   ],
   "outputs": [],
   "metadata": {}
  },
  {
   "cell_type": "code",
   "execution_count": 18,
   "source": [
    "# Simple model shown for simplicity and using the tf.data API\n",
    "\n",
    "model = keras.Sequential([\n",
    "    tf.keras.layers.Dense(10, activation='relu'),\n",
    "    tf.keras.layers.Dense(10, activation='relu'),\n",
    "    tf.keras.layers.Dense(1)\n",
    "])"
   ],
   "outputs": [],
   "metadata": {}
  },
  {
   "cell_type": "code",
   "execution_count": 19,
   "source": [
    "model.compile(optimizer='adam', loss='mean_absolute_error')"
   ],
   "outputs": [],
   "metadata": {}
  },
  {
   "cell_type": "code",
   "execution_count": null,
   "source": [
    "model.fit(train_dataset, epochs=2)"
   ],
   "outputs": [
    {
     "output_type": "stream",
     "name": "stdout",
     "text": [
      "Train for 9882 steps\n",
      "Epoch 1/2\n",
      "3144/9882 [========>.....................] - ETA: 47s - loss: 634.0907"
     ]
    }
   ],
   "metadata": {}
  },
  {
   "cell_type": "markdown",
   "source": [
    "Copyright 2020 Google Inc.\n",
    "Licensed under the Apache License, Version 2.0 (the \"License\"); you may not use this file except in compliance with the License. You may obtain a copy of the License at\n",
    "http://www.apache.org/licenses/LICENSE-2.0\n",
    "Unless required by applicable law or agreed to in writing, software distributed under the License is distributed on an \"AS IS\" BASIS, WITHOUT WARRANTIES OR CONDITIONS OF ANY KIND, either express or implied. See the License for the specific language governing permissions and limitations under the License."
   ],
   "metadata": {}
  },
  {
   "cell_type": "code",
   "execution_count": null,
   "source": [],
   "outputs": [],
   "metadata": {}
  }
 ],
 "metadata": {
  "environment": {
   "name": "tf2-gpu.2-1.m55",
   "type": "gcloud",
   "uri": "gcr.io/deeplearning-platform-release/tf2-gpu.2-1:m55"
  },
  "kernelspec": {
   "display_name": "Python 3",
   "language": "python",
   "name": "python3"
  },
  "language_info": {
   "codemirror_mode": {
    "name": "ipython",
    "version": 3
   },
   "file_extension": ".py",
   "mimetype": "text/x-python",
   "name": "python",
   "nbconvert_exporter": "python",
   "pygments_lexer": "ipython3",
   "version": "3.7.8"
  }
 },
 "nbformat": 4,
 "nbformat_minor": 4
}